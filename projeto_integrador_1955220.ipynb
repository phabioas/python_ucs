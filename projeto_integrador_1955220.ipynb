{
  "nbformat": 4,
  "nbformat_minor": 0,
  "metadata": {
    "colab": {
      "provenance": [],
      "authorship_tag": "ABX9TyPbej/EEHVm1hIRK88GSLbT",
      "include_colab_link": true
    },
    "kernelspec": {
      "name": "python3",
      "display_name": "Python 3"
    },
    "language_info": {
      "name": "python"
    }
  },
  "cells": [
    {
      "cell_type": "markdown",
      "metadata": {
        "id": "view-in-github",
        "colab_type": "text"
      },
      "source": [
        "<a href=\"https://colab.research.google.com/github/phabioas/python_ucs/blob/main/projeto_integrador_1955220.ipynb\" target=\"_parent\"><img src=\"https://colab.research.google.com/assets/colab-badge.svg\" alt=\"Open In Colab\"/></a>"
      ]
    },
    {
      "cell_type": "code",
      "source": [
        "def classificar_idade(idade):\n",
        "    \"\"\"\n",
        "    Classifica uma pessoa de acordo com a idade.\n",
        "\n",
        "    Args:\n",
        "      idade: A idade da pessoa em anos.\n",
        "\n",
        "    Returns:\n",
        "      A classificação da pessoa ('Criança', 'Adolescente' ou 'Adulto').\n",
        "    \"\"\"\n",
        "\n",
        "    if idade <= 13:\n",
        "        return 'Criança'\n",
        "    elif idade <= 17:\n",
        "        return 'Adolescente'\n",
        "    else:\n",
        "        return 'Adulto'\n",
        "\n",
        "# Exemplo de uso\n",
        "idade = int(input(\"Digite a idade da pessoa: \"))\n",
        "classificacao = classificar_idade(idade)\n",
        "print(f\"A pessoa é classificada como: {classificacao}\")\n",
        "\n",
        "idade = int(input(\"Digite a idade da pessoa: \"))\n",
        "classificacao = classificar_idade(idade)\n",
        "print(f\"A pessoa é classificada como: {classificacao}\")\n",
        "\n",
        "idade = int(input(\"Digite a idade da pessoa: \"))\n",
        "classificacao = classificar_idade(idade)\n",
        "print(f\"A pessoa é classificada como: {classificacao}\")"
      ],
      "metadata": {
        "colab": {
          "base_uri": "https://localhost:8080/"
        },
        "id": "w4tzVeXjvczv",
        "outputId": "cac3db94-d675-4e0c-be9d-2f576fa7c970"
      },
      "execution_count": 6,
      "outputs": [
        {
          "output_type": "stream",
          "name": "stdout",
          "text": [
            "Digite a idade da pessoa: 11\n",
            "A pessoa é classificada como: Criança\n",
            "Digite a idade da pessoa: 15\n",
            "A pessoa é classificada como: Adolescente\n",
            "Digite a idade da pessoa: 22\n",
            "A pessoa é classificada como: Adulto\n"
          ]
        }
      ]
    }
  ]
}