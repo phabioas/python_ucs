{
  "nbformat": 4,
  "nbformat_minor": 0,
  "metadata": {
    "colab": {
      "provenance": [],
      "toc_visible": true,
      "authorship_tag": "ABX9TyP3e73Qi+wu94M41OM04Y8T",
      "include_colab_link": true
    },
    "kernelspec": {
      "name": "python3",
      "display_name": "Python 3"
    },
    "language_info": {
      "name": "python"
    }
  },
  "cells": [
    {
      "cell_type": "markdown",
      "metadata": {
        "id": "view-in-github",
        "colab_type": "text"
      },
      "source": [
        "<a href=\"https://colab.research.google.com/github/phabioas/python_ucs/blob/main/classificar_idade_py.ipynb\" target=\"_parent\"><img src=\"https://colab.research.google.com/assets/colab-badge.svg\" alt=\"Open In Colab\"/></a>"
      ]
    },
    {
      "cell_type": "code",
      "execution_count": 7,
      "metadata": {
        "colab": {
          "base_uri": "https://localhost:8080/"
        },
        "id": "HqOWpLC3xJVd",
        "outputId": "4b0abd87-09d8-454e-9780-ecdee956745a"
      },
      "outputs": [
        {
          "output_type": "stream",
          "name": "stdout",
          "text": [
            "Digite a idade: 16\n",
            "Adolescente\n"
          ]
        }
      ],
      "source": [
        "def classificar_idade(idade):\n",
        "    try:\n",
        "        idade = int(idade)\n",
        "        if idade <= 13:\n",
        "            return \"Criança\"\n",
        "        elif 14 <= idade <= 17:\n",
        "            return \"Adolescente\"\n",
        "        else:\n",
        "            return \"Adulto\"\n",
        "    except ValueError:\n",
        "        return \"Entrada inválida. Por favor, insira um número inteiro.\"\n",
        "\n",
        "# Exemplo de uso\n",
        "idade = input(\"Digite a idade: \")\n",
        "print(classificar_idade(idade))"
      ]
    }
  ]
}