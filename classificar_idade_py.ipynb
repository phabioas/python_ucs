{
  "nbformat": 4,
  "nbformat_minor": 0,
  "metadata": {
    "colab": {
      "provenance": [],
      "toc_visible": true,
      "authorship_tag": "ABX9TyOBs+0VERpQU9d7YdKeXCOd",
      "include_colab_link": true
    },
    "kernelspec": {
      "name": "python3",
      "display_name": "Python 3"
    },
    "language_info": {
      "name": "python"
    }
  },
  "cells": [
    {
      "cell_type": "markdown",
      "metadata": {
        "id": "view-in-github",
        "colab_type": "text"
      },
      "source": [
        "<a href=\"https://colab.research.google.com/github/phabioas/python_ucs/blob/main/classificar_idade_py.ipynb\" target=\"_parent\"><img src=\"https://colab.research.google.com/assets/colab-badge.svg\" alt=\"Open In Colab\"/></a>"
      ]
    },
    {
      "cell_type": "code",
      "execution_count": 6,
      "metadata": {
        "colab": {
          "base_uri": "https://localhost:8080/"
        },
        "id": "HqOWpLC3xJVd",
        "outputId": "c9e2d11f-7ab1-46dd-a610-76978b32d4ba"
      },
      "outputs": [
        {
          "output_type": "stream",
          "name": "stdout",
          "text": [
            "Informe um número: 20\n",
            "[3, 6, 9, 12, 15, 18]\n"
          ]
        }
      ],
      "source": [
        "def multiplos_de_tres(n):\n",
        "    try:\n",
        "      numero = int(n)\n",
        "      return [i for i in range(1, numero+1) if i % 3 == 0]\n",
        "    except ValueError:\n",
        "        return \"Entrada inválida. Por favor, insira um número inteiro.\"\n",
        "\n",
        "# Exemplo de uso\n",
        "n = input(\"Informe um número: \")\n",
        "print(multiplos_de_tres(n))"
      ]
    }
  ]
}